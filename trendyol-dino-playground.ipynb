{
 "cells": [
  {
   "cell_type": "markdown",
   "id": "a91fa827-59df-458f-8757-680c05eb11a3",
   "metadata": {},
   "source": [
    "### Load pretrained ecomm model "
   ]
  },
  {
   "cell_type": "code",
   "execution_count": 1,
   "id": "c17cb274-8e1f-4a01-8f6c-bab7342dbb71",
   "metadata": {
    "editable": true,
    "slideshow": {
     "slide_type": ""
    },
    "tags": []
   },
   "outputs": [
    {
     "name": "stderr",
     "output_type": "stream",
     "text": [
      "/Users/cistusai/Desktop/.venv/lib/python3.11/site-packages/tqdm/auto.py:21: TqdmWarning: IProgress not found. Please update jupyter and ipywidgets. See https://ipywidgets.readthedocs.io/en/stable/user_install.html\n",
      "  from .autonotebook import tqdm as notebook_tqdm\n"
     ]
    }
   ],
   "source": [
    "import torch\n",
    "from PIL import Image\n",
    "from transformers import AutoModel, AutoImageProcessor"
   ]
  },
  {
   "cell_type": "code",
   "execution_count": null,
   "id": "e51610ca-d253-470b-a6ec-e5a6092f35b2",
   "metadata": {},
   "outputs": [],
   "source": [
    "PRE_TRAINED_MODEL_NAME = \"Trendyol/trendyol-dino-v2-ecommerce-256d\"\n",
    "processor = AutoImageProcessor.from_pretrained(PRE_TRAINED_MODEL_NAME, trust_remote_code=True)\n",
    "model = AutoModel.from_pretrained(PRE_TRAINED_MODEL_NAME, trust_remote_code=True)"
   ]
  },
  {
   "cell_type": "markdown",
   "id": "2149b67f-6fff-46fa-9dc2-cd87c586d23e",
   "metadata": {},
   "source": [
    "### Image processing and inferencing"
   ]
  },
  {
   "cell_type": "code",
   "execution_count": 16,
   "id": "5e3e21cb-8175-45c3-8fea-3bcc28c45d75",
   "metadata": {},
   "outputs": [],
   "source": [
    "import pandas as pd\n",
    "import numpy as np\n",
    "from pathlib import Path\n",
    "from PIL import Image"
   ]
  },
  {
   "cell_type": "code",
   "execution_count": 17,
   "id": "4a502c37-f9be-4b20-8691-46a2481493c9",
   "metadata": {},
   "outputs": [],
   "source": [
    "def transform_image(image):\n",
    "    \"\"\"\n",
    "    Dummy image transformation function (data augmentation placeholder)\n",
    "    \"\"\"\n",
    "    # Add actual augmentation logic here\n",
    "    return image"
   ]
  },
  {
   "cell_type": "code",
   "execution_count": 19,
   "id": "206be951-80e1-4846-be34-c1344d63a6ae",
   "metadata": {},
   "outputs": [],
   "source": [
    "CSV_PATH = \"path/to/your/data.csv\"          # Path to the CSV file\n",
    "IMAGE_FOLDER = \"path/to/images/\"            # Folder where images are stored\n",
    "IMAGE_COLUMN = \"image_name_column\"          # Column name in CSV that contains image names\n",
    "OUTPUT_FOLDER = \"path/to/save/latents/\"     # Folder to save latent space .npy files"
   ]
  },
  {
   "cell_type": "code",
   "execution_count": 20,
   "id": "85b0efdf-b461-47a9-b36a-092a2d77417a",
   "metadata": {},
   "outputs": [],
   "source": [
    "def process_images(csv_path=CSV_PATH, \n",
    "                   image_folder=IMAGE_FOLDER, \n",
    "                   image_column=IMAGE_COLUMN, \n",
    "                   output_folder=OUTPUT_FOLDER,\n",
    "                   dino_v2_infra=None):\n",
    "    \"\"\"\n",
    "    Read CSV, process images, apply transformation and model inference, \n",
    "    and save latent spaces as .npy files.\n",
    "    \"\"\"\n",
    "    # Read CSV\n",
    "    df = pd.read_csv(csv_path)\n",
    "\n",
    "    # Ensure output folder exists\n",
    "    Path(output_folder).mkdir(parents=True, exist_ok=True)\n",
    "\n",
    "    # Loop over rows\n",
    "    for idx, row in df.iterrows():\n",
    "        image_name = row[image_column]\n",
    "        image_path = Path(image_folder) / image_name\n",
    "\n",
    "        # Read image\n",
    "        image = Image.open(image_path)\n",
    "\n",
    "        # Transform image\n",
    "        transformed_image = transform_image(image)\n",
    "\n",
    "        # Model inference\n",
    "        if dino_v2_infra is None:\n",
    "            raise ValueError(\"Please provide a DinoDeployment object.\")\n",
    "        \n",
    "        latent_space = dino_v2_infra.run_inference(transformed_image)\n",
    "\n",
    "        # Save latent space\n",
    "        output_path = Path(output_folder) / f\"{image_name}_latent_space.npy\"\n",
    "        np.save(output_path, latent_space)"
   ]
  },
  {
   "cell_type": "markdown",
   "id": "4a44fb79-2e70-4774-add1-f25d1d84c112",
   "metadata": {},
   "source": [
    "### Latent space explorations - robustness of the model"
   ]
  },
  {
   "cell_type": "code",
   "execution_count": null,
   "id": "9e4c5780-8a2e-4f1f-b291-67975af281ac",
   "metadata": {},
   "outputs": [],
   "source": []
  }
 ],
 "metadata": {
  "kernelspec": {
   "display_name": "Python (.venv)",
   "language": "python",
   "name": "venv"
  },
  "language_info": {
   "codemirror_mode": {
    "name": "ipython",
    "version": 3
   },
   "file_extension": ".py",
   "mimetype": "text/x-python",
   "name": "python",
   "nbconvert_exporter": "python",
   "pygments_lexer": "ipython3",
   "version": "3.11.6"
  }
 },
 "nbformat": 4,
 "nbformat_minor": 5
}
